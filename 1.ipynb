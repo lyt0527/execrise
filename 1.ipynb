{
 "cells": [
  {
   "cell_type": "code",
   "execution_count": 1,
   "metadata": {},
   "outputs": [
    {
     "ename": "IndentationError",
     "evalue": "expected an indented block (<ipython-input-1-3143fba064f6>, line 9)",
     "output_type": "error",
     "traceback": [
      "\u001b[1;36m  File \u001b[1;32m\"<ipython-input-1-3143fba064f6>\"\u001b[1;36m, line \u001b[1;32m9\u001b[0m\n\u001b[1;33m    distance = great_circle((24.3078, 109.3729), (24.26632, 109.3815)).meters\u001b[0m\n\u001b[1;37m                                                                             ^\u001b[0m\n\u001b[1;31mIndentationError\u001b[0m\u001b[1;31m:\u001b[0m expected an indented block\n"
     ]
    }
   ],
   "source": [
    "import math\n",
    "from datetime import timedelta\n",
    "from geopy.distance import great_circle\n",
    "import datetime\n",
    "import numpy as np\n",
    "\n",
    "distance = great_circle((24.3078, 109.3729), (24.26632, 109.3815)).meters\n",
    "\n",
    "print(distance)"
   ]
  },
  {
   "cell_type": "code",
   "execution_count": 5,
   "metadata": {},
   "outputs": [
    {
     "name": "stdout",
     "output_type": "stream",
     "text": [
      "4699.262659943926\n"
     ]
    }
   ],
   "source": [
    "import numpy as np\n",
    "import pandas as pd\n",
    "from sklearn.cluster import DBSCAN\n",
    "from sklearn import metrics\n",
    "import matplotlib.pyplot as plt\n",
    "from math import *\n",
    "\n",
    "lon_a = 109.3729\n",
    "lat_a = 24.3078\n",
    "lon_b = 109.3815\n",
    "lat_b = 24.26632\n",
    "radlat1 = radians(lat_a)\n",
    "radlat2 = radians(lat_b)\n",
    "a = radlat1 - radlat2\n",
    "b = radians(lon_a) - radians(lon_b)\n",
    "s = 2 * asin(sqrt(pow(sin(a/2),2)+cos(radlat1)*cos(radlat2)*pow(sin(b/2),2)))\n",
    "earth_radius = 6378137\n",
    "s = s * earth_radius\n",
    "print(s)"
   ]
  },
  {
   "cell_type": "code",
   "execution_count": null,
   "metadata": {},
   "outputs": [],
   "source": []
  }
 ],
 "metadata": {
  "kernelspec": {
   "display_name": "Python 3",
   "language": "python",
   "name": "python3"
  },
  "language_info": {
   "codemirror_mode": {
    "name": "ipython",
    "version": 3
   },
   "file_extension": ".py",
   "mimetype": "text/x-python",
   "name": "python",
   "nbconvert_exporter": "python",
   "pygments_lexer": "ipython3",
   "version": "3.6.6"
  }
 },
 "nbformat": 4,
 "nbformat_minor": 2
}
